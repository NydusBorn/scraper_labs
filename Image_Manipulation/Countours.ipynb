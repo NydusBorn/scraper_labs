{
 "cells": [
  {
   "cell_type": "markdown",
   "id": "c6a8a5d3",
   "metadata": {
    "id": "c6a8a5d3"
   },
   "source": [
    "# Обнаружение контуров"
   ]
  },
  {
   "cell_type": "code",
   "id": "bc5c7159",
   "metadata": {
    "execution": {
     "iopub.execute_input": "2023-10-29T20:15:42.206506Z",
     "iopub.status.busy": "2023-10-29T20:15:42.206084Z",
     "iopub.status.idle": "2023-10-29T20:15:42.797845Z",
     "shell.execute_reply": "2023-10-29T20:15:42.796805Z"
    },
    "papermill": {
     "duration": 0.604843,
     "end_time": "2023-10-29T20:15:42.800403",
     "exception": false,
     "start_time": "2023-10-29T20:15:42.195560",
     "status": "completed"
    },
    "tags": [],
    "id": "bc5c7159"
   },
   "source": [
    "import cv2\n",
    "import numpy as np\n",
    "import matplotlib.pyplot as plt"
   ],
   "outputs": [],
   "execution_count": null
  },
  {
   "cell_type": "code",
   "id": "e15574d6",
   "metadata": {
    "id": "e15574d6"
   },
   "source": [
    "def READ_RGB(path):\n",
    "    image=cv2.imread(path)\n",
    "    return cv2.cvtColor(image,cv2.COLOR_BGR2RGB)\n",
    "\n",
    "def SHOW_IMAGE(image):\n",
    "    plt.imshow(image,cmap='gray')\n",
    "    plt.show()\n"
   ],
   "outputs": [],
   "execution_count": null
  },
  {
   "cell_type": "code",
   "id": "c7208c23",
   "metadata": {
    "execution": {
     "iopub.execute_input": "2023-10-29T20:15:42.939175Z",
     "iopub.status.busy": "2023-10-29T20:15:42.938784Z",
     "iopub.status.idle": "2023-10-29T20:15:43.305104Z",
     "shell.execute_reply": "2023-10-29T20:15:43.304246Z"
    },
    "papermill": {
     "duration": 0.378655,
     "end_time": "2023-10-29T20:15:43.307164",
     "exception": false,
     "start_time": "2023-10-29T20:15:42.928509",
     "status": "completed"
    },
    "tags": [],
    "colab": {
     "base_uri": "https://localhost:8080/",
     "height": 452
    },
    "id": "c7208c23",
    "outputId": "9f0ebeb7-a07c-40d6-8f75-14b19a5ebc56"
   },
   "source": [
    "rgb_image=READ_RGB('nested-shapes.png')\n",
    "SHOW_IMAGE(rgb_image)"
   ],
   "outputs": [],
   "execution_count": null
  },
  {
   "cell_type": "code",
   "id": "d90f1a68",
   "metadata": {
    "id": "d90f1a68"
   },
   "source": [
    "def READ_GRAY(path):\n",
    "    image=cv2.imread(path)\n",
    "    return cv2.cvtColor(image,cv2.COLOR_BGR2GRAY)\n"
   ],
   "outputs": [],
   "execution_count": null
  },
  {
   "cell_type": "code",
   "id": "2753b951",
   "metadata": {
    "execution": {
     "iopub.execute_input": "2023-10-29T20:15:43.328641Z",
     "iopub.status.busy": "2023-10-29T20:15:43.327518Z",
     "iopub.status.idle": "2023-10-29T20:15:43.584910Z",
     "shell.execute_reply": "2023-10-29T20:15:43.583773Z"
    },
    "papermill": {
     "duration": 0.270767,
     "end_time": "2023-10-29T20:15:43.587359",
     "exception": false,
     "start_time": "2023-10-29T20:15:43.316592",
     "status": "completed"
    },
    "tags": [],
    "colab": {
     "base_uri": "https://localhost:8080/",
     "height": 452
    },
    "id": "2753b951",
    "outputId": "e4a5190e-2b79-4613-b5cc-cc80b08d8bbd"
   },
   "source": [
    "gray_image=READ_GRAY('nested-shapes.png')\n",
    "SHOW_IMAGE(gray_image)"
   ],
   "outputs": [],
   "execution_count": null
  },
  {
   "cell_type": "markdown",
   "id": "b868f18b",
   "metadata": {
    "id": "b868f18b"
   },
   "source": [
    "## Трешхолд\n",
    "\n",
    "Бинаризация изображения: сравниваем интенсивность каждого пиксель с порогом (128). Возвращаем 255 если превышает и 0 в обратном случае\n",
    "<math xmlns=\"http://www.w3.org/1998/Math/MathML\" display=\"block\">\n",
    "  <mrow data-mjx-texclass=\"ORD\">\n",
    "    <mtext mathvariant=\"monospace\">dst</mtext>\n",
    "  </mrow>\n",
    "  <mo stretchy=\"false\">(</mo>\n",
    "  <mi>x</mi>\n",
    "  <mo>,</mo>\n",
    "  <mi>y</mi>\n",
    "  <mo stretchy=\"false\">)</mo>\n",
    "  <mo>=</mo>\n",
    "  <mrow data-mjx-texclass=\"INNER\">\n",
    "    <mo data-mjx-texclass=\"OPEN\">{</mo>\n",
    "    <mtable columnalign=\"left left\" columnspacing=\"1em\" rowspacing=\"4pt\">\n",
    "      <mtr>\n",
    "        <mtd>\n",
    "          <mn>0</mn>\n",
    "        </mtd>\n",
    "        <mtd>\n",
    "          <mstyle displaystyle=\"false\" scriptlevel=\"0\">\n",
    "            <mtext>if&#xA0;</mtext>\n",
    "            <mrow>\n",
    "              <mrow data-mjx-texclass=\"ORD\">\n",
    "                <mtext mathvariant=\"monospace\">src</mtext>\n",
    "              </mrow>\n",
    "              <mo stretchy=\"false\">(</mo>\n",
    "              <mi>x</mi>\n",
    "              <mo>,</mo>\n",
    "              <mi>y</mi>\n",
    "              <mo stretchy=\"false\">)</mo>\n",
    "              <mo>&gt;</mo>\n",
    "              <mrow data-mjx-texclass=\"ORD\">\n",
    "                <mtext mathvariant=\"monospace\">thresh</mtext>\n",
    "              </mrow>\n",
    "            </mrow>\n",
    "          </mstyle>\n",
    "        </mtd>\n",
    "      </mtr>\n",
    "      <mtr>\n",
    "        <mtd>\n",
    "          <mrow data-mjx-texclass=\"ORD\">\n",
    "            <mtext mathvariant=\"monospace\">src</mtext>\n",
    "          </mrow>\n",
    "          <mo stretchy=\"false\">(</mo>\n",
    "          <mi>x</mi>\n",
    "          <mo>,</mo>\n",
    "          <mi>y</mi>\n",
    "          <mo stretchy=\"false\">)</mo>\n",
    "        </mtd>\n",
    "        <mtd>\n",
    "          <mstyle displaystyle=\"false\" scriptlevel=\"0\">\n",
    "            <mtext>otherwise</mtext>\n",
    "          </mstyle>\n",
    "        </mtd>\n",
    "      </mtr>\n",
    "    </mtable>\n",
    "    <mo data-mjx-texclass=\"CLOSE\" fence=\"true\" stretchy=\"true\" symmetric=\"true\"></mo>\n",
    "  </mrow>\n",
    "</math>"
   ]
  },
  {
   "cell_type": "code",
   "id": "f541bbb6",
   "metadata": {
    "id": "f541bbb6"
   },
   "source": [
    "def READ_BINARY(path, thr = 128):\n",
    "    image = READ_GRAY(path)\n",
    "    image_ = cv2.GaussianBlur(image,(7,7),0)\n",
    "    # Аргументы:\n",
    "    # - картинка\n",
    "    # - порог, от 0 до 255\n",
    "    # - максимальное значение интенсивности\n",
    "    # - тип фильтрации. Мы выбрали обратное сравнение с трешхолдом, чтобы получить белые контуры на черном фоне\n",
    "    _,image = cv2.threshold(image_,thr,255,cv2.THRESH_BINARY_INV)\n",
    "\n",
    "    return image"
   ],
   "outputs": [],
   "execution_count": null
  },
  {
   "cell_type": "code",
   "id": "faeebebf",
   "metadata": {
    "execution": {
     "iopub.execute_input": "2023-10-29T20:15:43.608562Z",
     "iopub.status.busy": "2023-10-29T20:15:43.608181Z",
     "iopub.status.idle": "2023-10-29T20:15:43.863579Z",
     "shell.execute_reply": "2023-10-29T20:15:43.862527Z"
    },
    "papermill": {
     "duration": 0.26889,
     "end_time": "2023-10-29T20:15:43.865978",
     "exception": false,
     "start_time": "2023-10-29T20:15:43.597088",
     "status": "completed"
    },
    "tags": [],
    "colab": {
     "base_uri": "https://localhost:8080/",
     "height": 452
    },
    "id": "faeebebf",
    "outputId": "3322f311-8497-4e42-8013-7f5846052060"
   },
   "source": [
    "binary_image=READ_BINARY('nested-shapes.png', 240)\n",
    "SHOW_IMAGE(binary_image)"
   ],
   "outputs": [],
   "execution_count": null
  },
  {
   "cell_type": "code",
   "source": [
    "canny_img = cv2.Canny(gray_image,100,200)\n",
    "SHOW_IMAGE(canny_img)"
   ],
   "metadata": {
    "id": "O9Ks8vVAWoBK"
   },
   "id": "O9Ks8vVAWoBK",
   "outputs": [],
   "execution_count": null
  },
  {
   "cell_type": "markdown",
   "id": "0dbdd3ce",
   "metadata": {
    "id": "0dbdd3ce"
   },
   "source": [
    "## Иерархия контуров\n",
    "\n",
    "Вектор иерархии i-го контура состоит из 4-х элементов:\n",
    "\n",
    "- hierarchy[i][0] - следующий контур на том же иерархическом уровне;\n",
    "- hierarchy[i][1] - предыдущий контур на том же иерархическом уровне;\n",
    "- hierarchy[i][2] - первый дочерний контур\n",
    "- hierarchy[i][3] - родительский контур\n",
    "\n",
    "Если какой либо индекс не существует, то его индекс будет -1"
   ]
  },
  {
   "cell_type": "code",
   "id": "90770148",
   "metadata": {
    "execution": {
     "iopub.execute_input": "2023-10-29T20:15:43.888453Z",
     "iopub.status.busy": "2023-10-29T20:15:43.887673Z",
     "iopub.status.idle": "2023-10-29T20:15:43.895885Z",
     "shell.execute_reply": "2023-10-29T20:15:43.894649Z"
    },
    "papermill": {
     "duration": 0.021964,
     "end_time": "2023-10-29T20:15:43.898203",
     "exception": false,
     "start_time": "2023-10-29T20:15:43.876239",
     "status": "completed"
    },
    "tags": [],
    "id": "90770148"
   },
   "source": [
    "contours, hierarcy = cv2.findContours(binary_image,cv2.RETR_TREE,cv2.CHAIN_APPROX_SIMPLE)"
   ],
   "outputs": [],
   "execution_count": null
  },
  {
   "cell_type": "code",
   "id": "79cad0be",
   "metadata": {
    "execution": {
     "iopub.execute_input": "2023-10-29T20:15:43.920440Z",
     "iopub.status.busy": "2023-10-29T20:15:43.919589Z",
     "iopub.status.idle": "2023-10-29T20:15:43.926168Z",
     "shell.execute_reply": "2023-10-29T20:15:43.925333Z"
    },
    "papermill": {
     "duration": 0.019762,
     "end_time": "2023-10-29T20:15:43.928009",
     "exception": false,
     "start_time": "2023-10-29T20:15:43.908247",
     "status": "completed"
    },
    "tags": [],
    "colab": {
     "base_uri": "https://localhost:8080/"
    },
    "id": "79cad0be",
    "outputId": "deaf41cf-610a-4627-8991-c674f62d90d7"
   },
   "source": [
    "hierarcy"
   ],
   "outputs": [],
   "execution_count": null
  },
  {
   "cell_type": "code",
   "id": "0197e366",
   "metadata": {
    "execution": {
     "iopub.execute_input": "2023-10-29T20:15:43.949935Z",
     "iopub.status.busy": "2023-10-29T20:15:43.949533Z",
     "iopub.status.idle": "2023-10-29T20:15:44.276367Z",
     "shell.execute_reply": "2023-10-29T20:15:44.275286Z"
    },
    "papermill": {
     "duration": 0.340696,
     "end_time": "2023-10-29T20:15:44.278795",
     "exception": false,
     "start_time": "2023-10-29T20:15:43.938099",
     "status": "completed"
    },
    "tags": [],
    "colab": {
     "base_uri": "https://localhost:8080/",
     "height": 452
    },
    "id": "0197e366",
    "outputId": "e44d91b1-c8e4-4df6-81f7-4ba0b8c1687c"
   },
   "source": [
    "rgb_copy=rgb_image.copy()\n",
    "\n",
    "# Аргументы:\n",
    "# - 1. картинка, на которой будет рисовать контуры\n",
    "# - 2. массив с координатами контуров\n",
    "# - 3. индекс контура из contours, который мы хотим рисовать. -1 означает отрисовку всех контуров из массива\n",
    "# - 4. цвет\n",
    "# - 5. толщина\n",
    "cv2.drawContours(rgb_copy,contours,-1,(255,0,0),2)\n",
    "SHOW_IMAGE(rgb_copy)"
   ],
   "outputs": [],
   "execution_count": null
  },
  {
   "cell_type": "markdown",
   "id": "b6b31c21",
   "metadata": {
    "id": "b6b31c21"
   },
   "source": [
    "## Полином из контура"
   ]
  },
  {
   "cell_type": "code",
   "id": "2b35e897",
   "metadata": {
    "id": "2b35e897"
   },
   "source": [
    "# БОльший эпсилон - меньшая точность\n",
    "def Approximating(contour,epsilon=.2):\n",
    "    # Периметр контура\n",
    "    length=cv2.arcLength(contour,True)\n",
    "    # Аппроксимирует контурную форму к форме с меньшим количеством вершин\n",
    "    # в зависимости от указанной точности. Это реализация алгоритма Рамера — Дугласа — Пекера.\n",
    "    approx=cv2.approxPolyDP(contour,epsilon*length,True)\n",
    "\n",
    "    # Альтернатива - аппроксимация выпуклой оболочкой с заданным количеством сторон\n",
    "    # К сожалению, пока не работает в старых версиях opencv\n",
    "    #approx = cv2.approxPolyN(contour, 4)\n",
    "    return approx"
   ],
   "outputs": [],
   "execution_count": null
  },
  {
   "cell_type": "code",
   "id": "c5582de8",
   "metadata": {
    "execution": {
     "iopub.execute_input": "2023-10-29T20:15:44.301934Z",
     "iopub.status.busy": "2023-10-29T20:15:44.301524Z",
     "iopub.status.idle": "2023-10-29T20:15:44.312959Z",
     "shell.execute_reply": "2023-10-29T20:15:44.311807Z"
    },
    "papermill": {
     "duration": 0.025833,
     "end_time": "2023-10-29T20:15:44.315246",
     "exception": false,
     "start_time": "2023-10-29T20:15:44.289413",
     "status": "completed"
    },
    "tags": [],
    "id": "c5582de8"
   },
   "source": [
    "approx=Approximating(contours[2], 0.05)\n"
   ],
   "outputs": [],
   "execution_count": null
  },
  {
   "cell_type": "code",
   "id": "e33ecb21",
   "metadata": {
    "execution": {
     "iopub.execute_input": "2023-10-29T20:15:44.338742Z",
     "iopub.status.busy": "2023-10-29T20:15:44.338387Z",
     "iopub.status.idle": "2023-10-29T20:15:44.592174Z",
     "shell.execute_reply": "2023-10-29T20:15:44.590968Z"
    },
    "papermill": {
     "duration": 0.268534,
     "end_time": "2023-10-29T20:15:44.594706",
     "exception": false,
     "start_time": "2023-10-29T20:15:44.326172",
     "status": "completed"
    },
    "tags": [],
    "colab": {
     "base_uri": "https://localhost:8080/",
     "height": 518
    },
    "id": "e33ecb21",
    "outputId": "76c36fc7-6be0-4b57-e23a-da6d2411c85e"
   },
   "source": [
    "rgb_copy=rgb_image.copy()\n",
    "cv2.drawContours(rgb_copy,[approx],-1,(255,0,0),2)\n",
    "x,y,w,h = cv2.boundingRect(contours[2])\n",
    "\n",
    "# Рисуем углы\n",
    "for point in approx:\n",
    "    print(point)\n",
    "    x = point[0][0]\n",
    "    y = point[0][1]\n",
    "    rgb_copy = cv2.circle(rgb_copy, (x,y), radius=5, color=(0, 0, 255), thickness=3)\n",
    "\n",
    "SHOW_IMAGE(rgb_copy)"
   ],
   "outputs": [],
   "execution_count": null
  },
  {
   "cell_type": "code",
   "source": [
    "src_point = approx[0].astype('float32')\n",
    "src_point"
   ],
   "metadata": {
    "colab": {
     "base_uri": "https://localhost:8080/"
    },
    "id": "hxrOTwr9lFv7",
    "outputId": "99ef41b5-001f-4f90-d647-0abff2d3dfe8"
   },
   "id": "hxrOTwr9lFv7",
   "outputs": [],
   "execution_count": null
  },
  {
   "cell_type": "code",
   "source": [
    "import numpy as np\n",
    "\n",
    "rgb_copy=rgb_image.copy()\n",
    "dst = np.array([[0,0], [200,0], [200,200], [0,200]],  dtype = \"float32\") * 2\n",
    "M = cv2.getPerspectiveTransform(src_point, dst)\n",
    "\n",
    "warped = cv2.warpPerspective(rgb_copy, M, (200*2, 200*2))\n",
    "SHOW_IMAGE(warped)"
   ],
   "metadata": {
    "colab": {
     "base_uri": "https://localhost:8080/",
     "height": 455
    },
    "id": "WipZiVa2kg4X",
    "outputId": "2cc1acc4-26d8-4689-cc40-d1503718a698"
   },
   "id": "WipZiVa2kg4X",
   "outputs": [],
   "execution_count": null
  },
  {
   "cell_type": "markdown",
   "source": [],
   "metadata": {
    "id": "BnLD5GydlYWC"
   },
   "id": "BnLD5GydlYWC"
  },
  {
   "cell_type": "code",
   "id": "0f8bc40c",
   "metadata": {
    "id": "0f8bc40c"
   },
   "source": [
    "def four_point_transform(image, pts):\n",
    "    # obtain a consistent order of the points and unpack them individually\n",
    "    pts = pts.reshape(4, 2)\n",
    "    def order_points(pts):\n",
    "        rect = np.zeros((4, 2), dtype = \"float32\")\n",
    "        s = pts.sum(axis = 1)\n",
    "        rect[0] = pts[np.argmin(s)]\n",
    "        rect[2] = pts[np.argmax(s)]\n",
    "        diff = np.diff(pts, axis = 1)\n",
    "        rect[1] = pts[np.argmin(diff)]\n",
    "        rect[3] = pts[np.argmax(diff)]\n",
    "        return rect\n",
    "\n",
    "    rect = order_points(pts)\n",
    "    (tl, tr, br, bl) = rect\n",
    "    # compute the width of the new image, which will be the\n",
    "    # maximum distance between bottom-right and bottom-left\n",
    "    # x-coordiates or the top-right and top-left x-coordinates\n",
    "    widthA = np.sqrt(((br[0] - bl[0]) ** 2) + ((br[1] - bl[1]) ** 2))\n",
    "    widthB = np.sqrt(((tr[0] - tl[0]) ** 2) + ((tr[1] - tl[1]) ** 2))\n",
    "    maxWidth = max(int(widthA), int(widthB))\n",
    "    # compute the height of the new image, which will be the\n",
    "    # maximum distance between the top-right and bottom-right\n",
    "    # y-coordinates or the top-left and bottom-left y-coordinates\n",
    "    heightA = np.sqrt(((tr[0] - br[0]) ** 2) + ((tr[1] - br[1]) ** 2))\n",
    "    heightB = np.sqrt(((tl[0] - bl[0]) ** 2) + ((tl[1] - bl[1]) ** 2))\n",
    "    maxHeight = max(int(heightA), int(heightB))\n",
    "    # now that we have the dimensions of the new image, construct\n",
    "    # the set of destination points to obtain a \"birds eye view\",\n",
    "    # (i.e. top-down view) of the image, again specifying points\n",
    "    # in the top-left, top-right, bottom-right, and bottom-left order\n",
    "    dst = np.array([\n",
    "        [0, 0],\n",
    "        [maxWidth - 1, 0],\n",
    "        [maxWidth - 1, maxHeight - 1],\n",
    "        [0, maxHeight - 1]], dtype = \"float32\")\n",
    "    # compute the perspective transform matrix and then apply it\n",
    "    M = cv2.getPerspectiveTransform(rect, dst)\n",
    "    print(maxWidth, maxHeight)\n",
    "    warped = cv2.warpPerspective(image, M, (maxWidth, maxHeight))\n",
    "    # return the warped image\n",
    "    return warped"
   ],
   "outputs": [],
   "execution_count": null
  },
  {
   "cell_type": "code",
   "source": [
    "warped = four_point_transform(rgb_image, approx)\n",
    "SHOW_IMAGE(warped)"
   ],
   "metadata": {
    "colab": {
     "base_uri": "https://localhost:8080/",
     "height": 468
    },
    "id": "UhpYNPT2i3bR",
    "outputId": "4c311980-3442-4474-af8b-6c13f26a26d0"
   },
   "id": "UhpYNPT2i3bR",
   "outputs": [],
   "execution_count": null
  },
  {
   "cell_type": "code",
   "id": "568cbe9b",
   "metadata": {
    "execution": {
     "iopub.execute_input": "2023-10-29T20:15:44.619260Z",
     "iopub.status.busy": "2023-10-29T20:15:44.618865Z",
     "iopub.status.idle": "2023-10-29T20:15:44.828104Z",
     "shell.execute_reply": "2023-10-29T20:15:44.827134Z"
    },
    "papermill": {
     "duration": 0.224375,
     "end_time": "2023-10-29T20:15:44.830289",
     "exception": false,
     "start_time": "2023-10-29T20:15:44.605914",
     "status": "completed"
    },
    "tags": [],
    "colab": {
     "base_uri": "https://localhost:8080/",
     "height": 455
    },
    "id": "568cbe9b",
    "outputId": "f8a60033-7e0a-4322-c723-3474797cb042"
   },
   "source": [
    "warped = four_point_transform(rgb_image, approx)\n",
    "SHOW_IMAGE(warped)"
   ],
   "outputs": [],
   "execution_count": null
  },
  {
   "cell_type": "markdown",
   "id": "44e17197",
   "metadata": {
    "id": "44e17197"
   },
   "source": [
    "## Выпуклая оболочка"
   ]
  },
  {
   "cell_type": "code",
   "id": "8390d770",
   "metadata": {
    "colab": {
     "base_uri": "https://localhost:8080/",
     "height": 452
    },
    "id": "8390d770",
    "outputId": "bd4b8276-5938-46cc-836c-388e6e75a4e6"
   },
   "source": [
    "rgb_copy=rgb_image.copy()\n",
    "hull = cv2.convexHull(contours[2])\n",
    "cv2.drawContours(rgb_copy,[hull],-1,(0,0,255),3)\n",
    "SHOW_IMAGE(rgb_copy)"
   ],
   "outputs": [],
   "execution_count": null
  },
  {
   "cell_type": "code",
   "id": "8933a22b",
   "metadata": {
    "colab": {
     "base_uri": "https://localhost:8080/",
     "height": 452
    },
    "id": "8933a22b",
    "outputId": "2528ca86-3965-40c1-ef20-2d38f8d35ab5"
   },
   "source": [
    "rgb_copy=rgb_image.copy()\n",
    "x,y,w,h = cv2.boundingRect(contours[3])\n",
    "cv2.rectangle(rgb_copy,(x,y),(x+w,y+h),(0,255,0),2)\n",
    "SHOW_IMAGE(rgb_copy)"
   ],
   "outputs": [],
   "execution_count": null
  },
  {
   "cell_type": "code",
   "id": "12395b88",
   "metadata": {
    "colab": {
     "base_uri": "https://localhost:8080/",
     "height": 452
    },
    "id": "12395b88",
    "outputId": "cb04495a-e731-4a5e-860d-2b00fa07d7a1"
   },
   "source": [
    "import numpy as np\n",
    "\n",
    "rgb_copy = rgb_image.copy()\n",
    "rect = cv2.minAreaRect(contours[3])\n",
    "box = cv2.boxPoints(rect)\n",
    "box = np.array(box).astype(int)\n",
    "cv2.drawContours(rgb_copy,[box],0,(0,0,255),2)\n",
    "SHOW_IMAGE(rgb_copy)"
   ],
   "outputs": [],
   "execution_count": null
  },
  {
   "cell_type": "code",
   "id": "2268ce8e",
   "metadata": {
    "colab": {
     "base_uri": "https://localhost:8080/",
     "height": 472
    },
    "id": "2268ce8e",
    "outputId": "05f23719-391c-4993-eac4-8aa22cce46ea"
   },
   "source": [
    "warped = four_point_transform(rgb_copy, box)\n",
    "SHOW_IMAGE(warped)"
   ],
   "outputs": [],
   "execution_count": null
  },
  {
   "cell_type": "code",
   "source": [
    "box_ = box.astype(\"float32\")"
   ],
   "metadata": {
    "id": "hSugliatl61i"
   },
   "id": "hSugliatl61i",
   "outputs": [],
   "execution_count": null
  },
  {
   "cell_type": "code",
   "source": [
    "import numpy as np\n",
    "\n",
    "rgb_copy=rgb_image.copy()\n",
    "dst = np.array([[0,0],[0,200], [200,200], [200,0]],  dtype = \"float32\") * 2\n",
    "M = cv2.getPerspectiveTransform(box_, dst)\n",
    "\n",
    "warped = cv2.warpPerspective(rgb_copy, M, (200*2, 200*2))\n",
    "SHOW_IMAGE(rgb_copy)"
   ],
   "metadata": {
    "colab": {
     "base_uri": "https://localhost:8080/",
     "height": 455
    },
    "id": "LgPjs9zAl4U7",
    "outputId": "ed86e1d0-bc4a-4662-f663-fb60794b08b4"
   },
   "id": "LgPjs9zAl4U7",
   "outputs": [],
   "execution_count": null
  },
  {
   "cell_type": "code",
   "source": [
    "_,warped_bin = cv2.threshold(cv2.cvtColor(warped,cv2.COLOR_BGR2GRAY),200,255,cv2.THRESH_BINARY_INV)\n",
    "\n",
    "contours_ , _ = cv2.findContours(warped_bin,cv2.RETR_TREE,cv2.CHAIN_APPROX_SIMPLE)\n",
    "\n",
    "warped_copy = warped.copy()\n",
    "print(warped_copy.shape)\n",
    "for i in range(warped_copy.shape[0]):\n",
    "  for j in range(warped_copy.shape[1]):\n",
    "    dist = cv2.pointPolygonTest(cnt,point,False)\n",
    "    if cv2.pointPolygonTest(contours_[1],(j,i), False) == -1:\n",
    "      warped_copy[i][j] = (0,0,0)\n",
    "\n",
    "SHOW_IMAGE(warped_copy)\n"
   ],
   "metadata": {
    "colab": {
     "base_uri": "https://localhost:8080/",
     "height": 472
    },
    "id": "CGfXCEA5opzz",
    "outputId": "c2544ccb-82f7-4e36-d5a5-290dcebf6038"
   },
   "id": "CGfXCEA5opzz",
   "outputs": [],
   "execution_count": null
  },
  {
   "cell_type": "markdown",
   "id": "ba0a4ec3",
   "metadata": {
    "id": "ba0a4ec3"
   },
   "source": [
    "## Сортировка контуров по площади"
   ]
  },
  {
   "cell_type": "code",
   "id": "413d8fe2",
   "metadata": {
    "id": "413d8fe2"
   },
   "source": [
    "areas = [cv2.contourArea(cnt) for cnt in contours]\n",
    "sorted_contours = sorted(zip(areas, contours), reverse=True)"
   ],
   "outputs": [],
   "execution_count": null
  },
  {
   "cell_type": "code",
   "id": "7ca9d755",
   "metadata": {
    "colab": {
     "base_uri": "https://localhost:8080/",
     "height": 1000
    },
    "id": "7ca9d755",
    "outputId": "a3fe95cd-db82-47be-d18d-2ef281ebaee8"
   },
   "source": [
    "for cnt in sorted_contours:\n",
    "    rgb_copy = rgb_image.copy()\n",
    "    area, contour = cnt\n",
    "    print(f\"Index= {sorted_contours.index(cnt)}, Area = {area}\")\n",
    "    cv2.drawContours(rgb_copy,[contour],0,(0,255,0),3)\n",
    "    SHOW_IMAGE(rgb_copy)\n"
   ],
   "outputs": [],
   "execution_count": null
  },
  {
   "cell_type": "markdown",
   "id": "6643954b",
   "metadata": {
    "id": "6643954b"
   },
   "source": [
    "## Проверка принадлежности точки к контуру"
   ]
  },
  {
   "cell_type": "code",
   "id": "d0786fd7",
   "metadata": {
    "colab": {
     "base_uri": "https://localhost:8080/",
     "height": 468
    },
    "id": "d0786fd7",
    "outputId": "2b92ed1c-dfdb-4a53-c462-88c1f85b456a"
   },
   "source": [
    "rgb_copy=rgb_image.copy()\n",
    "\n",
    "point = (250,250)\n",
    "cnt = sorted_contours[5][1]\n",
    "\n",
    "# Уменьшение количества углов\n",
    "cnt = Approximating(cnt, 0.02)\n",
    "\n",
    "# Рисуем углы\n",
    "for corn in cnt:\n",
    "    x = corn[0][0]\n",
    "    y = corn[0][1]\n",
    "    rgb_copy = cv2.circle(rgb_copy, (x,y), radius=5, color=(255, 0, 255), thickness=3)\n",
    "\n",
    "\n",
    "dist = cv2.pointPolygonTest(cnt,point,False)\n",
    "print(dist)\n",
    "\n",
    "rgb_copy = cv2.circle(rgb_copy, point, radius=10, color=(255, 0, 0), thickness=3)\n",
    "cv2.drawContours(rgb_copy,[cnt],-1,(0,255,0),5)\n",
    "\n",
    "\n",
    "SHOW_IMAGE(rgb_copy)"
   ],
   "outputs": [],
   "execution_count": null
  },
  {
   "cell_type": "code",
   "source": [
    "cnt[cnt[:,:, 0].argmin()]"
   ],
   "metadata": {
    "colab": {
     "base_uri": "https://localhost:8080/"
    },
    "id": "Yd81uOgonror",
    "outputId": "01f0cff4-0c09-4935-b5d9-4361b3bd75f2"
   },
   "id": "Yd81uOgonror",
   "outputs": [],
   "execution_count": null
  },
  {
   "cell_type": "code",
   "source": [
    "rgb_copy=rgb_image.copy()\n",
    "\n",
    "cnt = sorted_contours[6][1]\n",
    "leftmost = tuple(cnt[cnt[:,:,0].argmin()][0])\n",
    "rightmost = tuple(cnt[cnt[:,:,0].argmax()][0])\n",
    "topmost = tuple(cnt[cnt[:,:,1].argmin()][0])\n",
    "bottommost = tuple(cnt[cnt[:,:,1].argmax()][0])\n",
    "\n",
    "rgb_copy = cv2.circle(rgb_copy, leftmost, radius=5, color=(255, 0, 255), thickness=5)\n",
    "rgb_copy = cv2.circle(rgb_copy, rightmost, radius=5, color=(255, 0, 255), thickness=5)\n",
    "rgb_copy = cv2.circle(rgb_copy, topmost, radius=5, color=(255, 0, 255), thickness=5)\n",
    "rgb_copy = cv2.circle(rgb_copy, bottommost, radius=5, color=(255, 0, 255), thickness=5)\n",
    "SHOW_IMAGE(rgb_copy)"
   ],
   "metadata": {
    "colab": {
     "base_uri": "https://localhost:8080/",
     "height": 452
    },
    "id": "1F9sgpN4ZQLh",
    "outputId": "e6bb3b8c-3d7f-40f1-b70d-01b2fd0b18c6"
   },
   "id": "1F9sgpN4ZQLh",
   "outputs": [],
   "execution_count": null
  },
  {
   "cell_type": "markdown",
   "id": "8c07f679",
   "metadata": {
    "id": "8c07f679"
   },
   "source": [
    "Источники:\n",
    "\n",
    "1) [Туториал](https://www.kaggle.com/code/ahmedashrafahmed/findcontours-four-point-transform)\n",
    "\n",
    "2) [Документация OpenCV](https://docs.opencv.org/4.x/d3/d05/tutorial_py_table_of_contents_contours.html)"
   ]
  }
 ],
 "metadata": {
  "kernelspec": {
   "display_name": "Python 3",
   "language": "python",
   "name": "python3"
  },
  "language_info": {
   "codemirror_mode": {
    "name": "ipython",
    "version": 3
   },
   "file_extension": ".py",
   "mimetype": "text/x-python",
   "name": "python",
   "nbconvert_exporter": "python",
   "pygments_lexer": "ipython3",
   "version": "3.11.12"
  },
  "papermill": {
   "default_parameters": {},
   "duration": 25.291316,
   "end_time": "2023-10-29T20:15:49.348384",
   "environment_variables": {},
   "exception": null,
   "input_path": "__notebook__.ipynb",
   "output_path": "__notebook__.ipynb",
   "parameters": {},
   "start_time": "2023-10-29T20:15:24.057068",
   "version": "2.4.0"
  },
  "colab": {
   "provenance": []
  }
 },
 "nbformat": 4,
 "nbformat_minor": 5
}
