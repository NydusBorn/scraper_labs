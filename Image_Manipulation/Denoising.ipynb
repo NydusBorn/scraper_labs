{
 "cells": [
  {
   "cell_type": "markdown",
   "metadata": {
    "id": "F4sKXW6car9A"
   },
   "source": [
    "# Оптимизация изображений\n",
    "\n",
    "В этой лабораторной мы рассмотрим две операции над изображениями:\n",
    "\n",
    "- Сжатие изображений\n",
    "- Удаление шума"
   ]
  },
  {
   "cell_type": "markdown",
   "metadata": {
    "id": "J4zNgjtVar9D"
   },
   "source": [
    "### 1. Сжатие изображений"
   ]
  },
  {
   "cell_type": "code",
   "metadata": {
    "id": "hdlR_D_Dar9G"
   },
   "source": [
    "import cv2 as cv\n",
    "import numpy as np\n",
    "from matplotlib import pyplot as plt\n",
    "\n",
    "img = cv.imread('IU.jpg')\n",
    "img = cv.cvtColor(img, cv.COLOR_BGR2RGB)"
   ],
   "outputs": [],
   "execution_count": null
  },
  {
   "cell_type": "code",
   "metadata": {
    "id": "fCuctkTRar9K",
    "outputId": "1b8414a9-c14d-4548-b8b0-3e688c314059"
   },
   "source": [
    "flag, encoded_img = cv.imencode('new_img.jpg', img, [cv.IMWRITE_JPEG_QUALITY, 50])\n",
    "print(f\"Encode is successfull: {flag}\")\n",
    "print(f\"Size before encoding: {img.size}\")\n",
    "print(f\"Encoded image shape: {encoded_img.size}\")"
   ],
   "outputs": [],
   "execution_count": null
  },
  {
   "cell_type": "code",
   "metadata": {
    "id": "mhz_N-GKar9M",
    "outputId": "2987235a-7ace-4359-b0cf-96db7ce63527"
   },
   "source": [
    "decoded_img = cv.imdecode(encoded_img, cv.IMREAD_COLOR)\n",
    "print(f\"Decoded image shape: {decoded_img.size}\")"
   ],
   "outputs": [],
   "execution_count": null
  },
  {
   "cell_type": "code",
   "metadata": {
    "id": "gs96DCz0ar9O",
    "outputId": "7581ceb6-3499-473b-fd8d-207ebeb7bd78"
   },
   "source": [
    "fig, ax = plt.subplots(ncols=2, nrows=1, figsize=(12, 8))\n",
    "\n",
    "ax[0].set(title='Original', xticks=[],yticks=[])\n",
    "ax[0].imshow(img)\n",
    "\n",
    "ax[1].set(title='Compressed', xticks=[],yticks=[])\n",
    "ax[1].imshow(decoded_img)\n",
    "\n",
    "fig.tight_layout()\n",
    "\n",
    "plt.show()"
   ],
   "outputs": [],
   "execution_count": null
  },
  {
   "cell_type": "markdown",
   "metadata": {
    "id": "XpMMoSZLar9Q"
   },
   "source": [
    "#### 1.2 Сравнение изображений и оценка качества"
   ]
  },
  {
   "cell_type": "code",
   "metadata": {
    "id": "aFAvAbHBar9S",
    "outputId": "7fbf9891-51aa-4dca-888f-eecea3b521cd"
   },
   "source": [
    "import numpy as np\n",
    "\n",
    "# Mean-squared error\n",
    "def calculate_mse(img1, img2):\n",
    "    return np.mean((img1 - img2) ** 2)\n",
    "\n",
    "mse = calculate_mse(img, decoded_img)\n",
    "print(f\"Mean Squared Error: {mse}\")"
   ],
   "outputs": [],
   "execution_count": null
  },
  {
   "cell_type": "code",
   "metadata": {
    "id": "gWQ9R-mXar9U",
    "outputId": "516f6dc2-013a-42eb-9702-721d6bccaf20"
   },
   "source": [
    "# PSNR - Peak Signal-to-Noise Ratio\n",
    "def calculate_psnr(img1, img2):\n",
    "    mse = calculate_mse(img1, img2)\n",
    "    if mse == 0:\n",
    "        return float('inf')\n",
    "    return 20 * np.log10((img1.max()-img1.min()) / np.sqrt(mse))\n",
    "\n",
    "psnr = calculate_psnr(img, decoded_img)\n",
    "print(f\"Peak Signal-to-Noise Ratio: {psnr}\")"
   ],
   "outputs": [],
   "execution_count": null
  },
  {
   "cell_type": "markdown",
   "metadata": {
    "id": "lM7xw5ZKar9W"
   },
   "source": [
    "### 2. Удаление шума через"
   ]
  },
  {
   "cell_type": "markdown",
   "metadata": {
    "id": "gYPnVOlaar9W"
   },
   "source": [
    "#### 2.1. Non-Local Means Denoising\n",
    "\n",
    "Метод находит похожие куски изображений и вычисляет их среднее. Работает хорошо для картинок с нормальным шумом"
   ]
  },
  {
   "cell_type": "code",
   "metadata": {
    "id": "a5ux1vlrar9X",
    "outputId": "043c2719-d14d-46db-d48e-cbb5322d8795"
   },
   "source": [
    "import skimage\n",
    "\n",
    "noisy_img = skimage.util.random_noise(img/255.0, mode=\"gaussian\") * 255.0\n",
    "noisy_img = np.clip(noisy_img, 0, 255).astype(np.uint8)\n",
    "\n",
    "# Параметры fastNlMeansDenoisingColored\n",
    "# h : parameter deciding filter strength. Higher h value removes noise better, but removes details of image also. (10 is ok)\n",
    "# hColor : same as h, but for color images only. (normally same as h)\n",
    "# templateWindowSize : should be odd. (recommended 7)\n",
    "# searchWindowSize : should be odd. (recommended 21)\n",
    "denoised_img = cv.fastNlMeansDenoisingColored(noisy_img, None, h=10, hColor=10,templateWindowSize=7, searchWindowSize=21)\n",
    "\n",
    "psnr = calculate_psnr(img, noisy_img)\n",
    "print(f\"Peak Signal-to-Noise Ratio between original and noisy image: {psnr}\")\n",
    "\n",
    "psnr = calculate_psnr(img, denoised_img)\n",
    "print(f\"Peak Signal-to-Noise Ratio between original and denoised image: {psnr}\")\n",
    "\n",
    "fig, ax = plt.subplots(ncols=2, nrows=1, figsize=(12, 8))\n",
    "ax[0].set(title='Noisy', xticks=[],yticks=[])\n",
    "ax[0].imshow(noisy_img)\n",
    "ax[1].set(title='Denoised')\n",
    "ax[1].imshow(denoised_img)\n",
    "\n",
    "fig.tight_layout()\n",
    "\n",
    "plt.show()"
   ],
   "outputs": [],
   "execution_count": null
  },
  {
   "cell_type": "code",
   "metadata": {
    "id": "WWcEipOzar9Z"
   },
   "source": [
    "def generate_salt_pepper_noise(img, noise_percent):\n",
    "    print(img.shape)\n",
    "    # Create an array of ones\n",
    "    height = img.shape[0]\n",
    "    width = img.shape[1]\n",
    "    channels = 3\n",
    "\n",
    "    mask = np.ones((height, width, channels))\n",
    "    mask_size = height * width\n",
    "    # Calculate how many elements we want to change to zero\n",
    "    num_zeros = int(mask_size * noise_percent)\n",
    "    for channel in range(channels):\n",
    "        # Generate random indices where we want to change ones to zeros\n",
    "        indices_to_change = np.random.choice(mask_size, num_zeros, replace=False)\n",
    "        if channels == 1:\n",
    "            mask[indices_to_change % height, indices_to_change // height] = 0\n",
    "        else:\n",
    "            mask[indices_to_change % height, indices_to_change // height, channel] = 0\n",
    "    return (img * mask), mask"
   ],
   "outputs": [],
   "execution_count": null
  },
  {
   "cell_type": "markdown",
   "metadata": {
    "id": "kRZlJfvTar9a"
   },
   "source": [
    "Для salt-pepper шума работает не так здорово..."
   ]
  },
  {
   "cell_type": "code",
   "metadata": {
    "id": "fzSSBEwlar9b",
    "outputId": "b437135c-3f25-4a0e-a240-4dd810beb4a8"
   },
   "source": [
    "noisy_img, _ = generate_salt_pepper_noise(img,0.1)\n",
    "noisy_img = noisy_img.astype(np.uint8)\n",
    "\n",
    "denoised_img = cv.fastNlMeansDenoisingColored(noisy_img, None, h=10, hColor=10,templateWindowSize=7, searchWindowSize=21)\n",
    "\n",
    "psnr = calculate_psnr(img, noisy_img)\n",
    "print(f\"Peak Signal-to-Noise Ratio between original and noisy image: {psnr}\")\n",
    "\n",
    "psnr = calculate_psnr(img, denoised_img)\n",
    "print(f\"Peak Signal-to-Noise Ratio between original and denoised image: {psnr}\")\n",
    "\n",
    "fig, ax = plt.subplots(ncols=2, nrows=1, figsize=(12, 8))\n",
    "ax[0].set(title='Noisy', xticks=[],yticks=[])\n",
    "ax[0].imshow(noisy_img)\n",
    "ax[1].set(title='Denoised')\n",
    "ax[1].imshow(denoised_img)\n",
    "\n",
    "fig.tight_layout()\n",
    "\n",
    "plt.show()"
   ],
   "outputs": [],
   "execution_count": null
  },
  {
   "cell_type": "markdown",
   "metadata": {
    "id": "pd5Q2KH6ar9c"
   },
   "source": [
    "#### 2.2. Median Filter\n",
    "\n",
    "Фильтрация через свертку: заменяет пиксели на медианное значение их соседей"
   ]
  },
  {
   "cell_type": "code",
   "metadata": {
    "id": "BEnVWaykar9d",
    "outputId": "c3956ece-6f6a-4cc1-cc39-9a1e4f4db405"
   },
   "source": [
    "#noisy_img = skimage.util.random_noise(img/255.0, mode=\"gaussian\") * 255.0\n",
    "#noisy_img = np.clip(noisy_img, 0, 255).astype(np.uint8)\n",
    "noisy_img, _ = generate_salt_pepper_noise(img,0.1)\n",
    "noisy_img = noisy_img.astype(np.uint8)\n",
    "\n",
    "\n",
    "median_img = cv.medianBlur(noisy_img, 5)\n",
    "\n",
    "psnr = calculate_psnr(img, noisy_img)\n",
    "print(f\"Peak Signal-to-Noise Ratio between original and noisy image: {psnr}\")\n",
    "\n",
    "psnr = calculate_psnr(img, median_img)\n",
    "print(f\"Peak Signal-to-Noise Ratio between original and denoised image: {psnr}\")\n",
    "\n",
    "fig, ax = plt.subplots(ncols=2, nrows=1, figsize=(12, 8))\n",
    "ax[0].set(title='Noisy', xticks=[],yticks=[])\n",
    "ax[0].imshow(noisy_img)\n",
    "ax[1].set(title='Denoised')\n",
    "ax[1].imshow(median_img)\n",
    "\n",
    "fig.tight_layout()\n",
    "\n",
    "plt.show()"
   ],
   "outputs": [],
   "execution_count": null
  },
  {
   "cell_type": "markdown",
   "metadata": {
    "id": "RZZurJduar9e"
   },
   "source": [
    "### 2.3 Фильтрация через разложение матриц"
   ]
  },
  {
   "cell_type": "code",
   "metadata": {
    "id": "Z5I90OkPar9e"
   },
   "source": [
    "from torchvision.transforms import GaussianBlur\n",
    "from torch import diag, stack, cat, nn, tensor, linalg\n",
    "\n",
    "from copy import deepcopy\n",
    "\n",
    "def svd_decomposition(image, mask):\n",
    "    X = tensor(image)\n",
    "    mask_ = tensor(mask)\n",
    "    # 3d -> 2d\n",
    "    B_Miss = cat([X[:,:,0], X[:,:,1], X[:,:,2]], dim=1)\n",
    "    print(B_Miss.shape)\n",
    "    mask_flatten = cat([mask_[:,:,0], mask_[:,:,1], mask_[:,:,2]], dim=1)\n",
    "    rev_mask = (mask_flatten - 1) * (-1)\n",
    "    rank = 50\n",
    "    X = B_Miss.detach().clone()\n",
    "\n",
    "    for _ in range(20):\n",
    "        try:\n",
    "            u, sig, vh = linalg.svd(X, full_matrices=False)\n",
    "            Y = u[:,:rank] @ diag(sig[:rank]) @ vh[:rank,:]\n",
    "            X = B_Miss + rev_mask * Y\n",
    "            X = tensor(cv.GaussianBlur(X.detach().numpy(), ksize=(5,5), sigmaX=0.7))\n",
    "        except Exception as exc:\n",
    "            print(f\"Exception in svd_decomposition: {str(exc)}\")\n",
    "    X = stack([X[:, :image.shape[1]],\n",
    "               X[:, image.shape[1]:image.shape[1] * 2],\n",
    "               X[:, image.shape[1] * 2:]]).permute(1, 2, 0)\n",
    "    print(X.shape)\n",
    "    return X.detach().numpy()"
   ],
   "outputs": [],
   "execution_count": null
  },
  {
   "cell_type": "code",
   "metadata": {
    "id": "1C3P2Iooar9f",
    "outputId": "f7265245-bfff-4719-d98d-d94451d66878"
   },
   "source": [
    "noisy_img, mask = generate_salt_pepper_noise(img, 0.1)\n",
    "reconstructed_img = svd_decomposition(noisy_img, mask)\n",
    "\n",
    "psnr = calculate_psnr(img, noisy_img)\n",
    "print(f\"Peak Signal-to-Noise Ratio between original and noisy image: {psnr}\")\n",
    "\n",
    "psnr = calculate_psnr(img, reconstructed_img)\n",
    "print(f\"Peak Signal-to-Noise Ratio between original and denoised image: {psnr}\")\n",
    "\n",
    "noisy_img = noisy_img.astype(np.uint8)\n",
    "reconstructed_img = reconstructed_img.astype(np.uint8)\n",
    "fig, ax = plt.subplots(ncols=2, nrows=1, figsize=(12, 8))\n",
    "ax[0].set(title='Noisy', xticks=[],yticks=[])\n",
    "ax[0].imshow(noisy_img)\n",
    "ax[1].set(title='Denoised')\n",
    "ax[1].imshow(reconstructed_img)\n",
    "\n",
    "fig.tight_layout()\n",
    "\n",
    "plt.show()"
   ],
   "outputs": [],
   "execution_count": null
  }
 ],
 "metadata": {
  "kernelspec": {
   "display_name": "Python 3",
   "language": "python",
   "name": "python3"
  },
  "language_info": {
   "codemirror_mode": {
    "name": "ipython",
    "version": 3
   },
   "file_extension": ".py",
   "mimetype": "text/x-python",
   "name": "python",
   "nbconvert_exporter": "python",
   "pygments_lexer": "ipython3",
   "version": "3.11.12"
  },
  "colab": {
   "provenance": []
  }
 },
 "nbformat": 4,
 "nbformat_minor": 0
}
