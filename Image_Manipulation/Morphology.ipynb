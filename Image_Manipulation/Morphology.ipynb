{
 "cells": [
  {
   "cell_type": "markdown",
   "metadata": {
    "id": "ufF_nbRAdxcJ"
   },
   "source": [
    "# Морфологические операции в OpenCV"
   ]
  },
  {
   "cell_type": "code",
   "source": [
    "!wget data:image/jpeg;base64,/9j/4AAQSkZJRgABAQAAAQABAAD/2wCEAAkGBwgHBgkIBwgKCgkLDRYPDQwMDRsUFRAWIB0iIiAdHx8kKDQsJCYxJx8fLT0tMTU3Ojo6Iys/RD84QzQ5OjcBCgoKDQwNGg8PGjclHyU3Nzc3Nzc3Nzc3Nzc3Nzc3Nzc3Nzc3Nzc3Nzc3Nzc3Nzc3Nzc3Nzc3Nzc3Nzc3Nzc3N//AABEIAMAAzAMBIgACEQEDEQH/xAAcAAACAwEBAQEAAAAAAAAAAAAEBQIDBgEHAAj/xABIEAACAQMCAwUEBgcECAcBAAABAgMABBEFIRIxQQYTIlFhFDJxgUJSkaHB0QcVI2JykrEkM+HwFiVDc4Kio7I1RVNUg7PxNP/EABkBAAMBAQEAAAAAAAAAAAAAAAABAgMEBf/EACMRAQEAAgIDAAIDAQEAAAAAAAABAhEDEiExQQRRBRMiYSP/2gAMAwEAAhEDEQA/AOdt+yus3epLf6cEu+OMFmtW4ixHmOfWtt+jm1uF7HONTtFgu+KSLLJwuy4HPrzzSW/urbUrqyuOC7mENs6ySJblTx5JXfbYbdad9l9QnE0GmSySyAW5aQzcRdZcZ2OfdxyrHzGvj4X6Dp0H6ytbiGXuxbZAjYDIB/ChRZaJa31yzahcm4eUnBtyojYnPMHlSX2rWs+0WpLHHDwd1xD4nG9azs/ZjVLo3Gqm27zuuF4xIuS3mQCcfOpm2vJ1+M/rNjc6fcwXI1G1mikk3jhkJbJ6lRjNaSCOC/nt5bWSKG9WNe9iWExRyDHunqf874oiOK0WKGGNlVQz96xjDHY7YLch8CMVVeXEEWoyywDvYCiNCeHIkddiuT6VU0ztp5osstxfX4mQw+4UTiHEoKjnucUH2ukC9mtUDifwW8nhaInbBGcgcsetD6N2gs5L27vbhY4TJGuDndlUbDB679KynbbtQt5FMmk3kdshYo73UZKlSPFwgZ8Wf3eVabvpnqeyTs1epa31jLdzSSr+sY3Zo2wwzaSrgHbzxsR09KB7SlbrTdYuIbKS1inuluFikYswz7xJP0iQSfUmhLfTrZbWCe61CBWZ0lEi5GyhgcAgHqDy5/CpS3tokE1vFdPKsr8RZoGZQN9gDQfmlkem3SpHw384zjI225Uyt7EKiRT3EjnJYPtn4VD2y2jjQAStgAZ7o7Y/pXYtYs4pgzyNzOzxnHKjcPrkjfW5AjKgZ/7af2gITfngUlmvrO74VgnDEAc2xT62GIwPTpU6O7+suwx29QcOcqc/Dgqz9IfCvZ6JU93vxj7DXG37ewr+7n/kqz9JB4tEhX60wP3Gq+p+DezK47Iwf/J/9rVn9UGGYeYb/vrRdlyT2UgLcsyH/qtWcveJ3jYcmVyP56fwp7KJ4uEg0NIKNmHhFDMtJoaaAP2Uvxqch/1rF/Aajop4YG+NS/8AM0/3Z/rUz2V9NRPJLEFIduBlGPFVUR70SwO/ickr4s8qjLM0iJG3iCgcPh9K7bPHFN3rhtmxVWbTKqiZoTIn1VH41h4xIQSnIk1vLp0mkmlXwrwj3vhWCiUMmTzplHqkN1dyav3cOoMLHu/EsUgwjbnn1GAPto/UJ86iTFM0YKRjjjfh2IXr8TWdh0KFRD7bdkGfhVGAwviXI+4/dTzSOzV/FF3SxXzFoyqNJEsccTH6Xmd/MVjlvfh08Vx66yjTWem6UFS6mubfuWXIWUvx/bxc81jr7U0g1grHIsqxScLhCeFk5jHXI2rTN2C0aWBZNQjK3LAGULKWXix0G1DJ2K0q3P8Aq4Mh+sVzVSxlfHpPVO0zMyQ2VrLChUZ70EYPnnJPypY8ekQjvRf3UzvnjjYEKxPTkMCmj9lYkQs14y4/cFJbqwhhYgPI2ORKY/GrxwxvlNzyk0n7fZ20LCGwiUfVyST8z50HdXOmQILia1iSbksIGVTqQFG2d+vWh3hZ540zux545DzpHfS51CQID3SDoTuT1+4VpJLWVt00kV/ZLbx97aWrScI4iY871XLe2BXw2kWfRKQRR977xUAfOrRBGDnvDv8Au1r1jPtTFLmylbh7qND8MV9NHZg7opHmFH5UItmvNGY/AVfFEVwHLFfhyqLh/wBVM3WgsHUn2dDgZ3VfyrtldMsCrKxQg7BCMDyrssUDrkTMCNtxQwgQNhZ9/wCGs7GmxQ9lN4LrPFcjk/Bvy/KipIl1GEie3S5ji8RBjyEpebRivEJxnptvXI5r21Vu7nKh9jxKN/upAwWZbeAW8EMMaJyVW4cZOSazeoWc7cDCP3VYeFupOaMlmuJAzMysW2O2KqLzAENGD8N80AhnBXYggjoRihmWnt6RPEoZBleTdR+YFKJ0aN+BwPMMOtJpKM0kfsn/AIqk3/iyfwV3Sx4G/iqThV1VSfEvd8vnShU3eXxDw8/D91Sdnwvh+nnxD/OavzZcK5iK71yRYHQMtww8R+hVoAyv/Z7r5/8AbWX0/uzC3EvEeLn8hWpvMJaXLCUN4X5AjkvWs3pQ/s7fx/gKB8ev295pOmxj2bTkllChVkuW7xgByHyGB8qsm7X6hJlYxFH6Baz3Cc718dqUwkPtTR9e1B/E0+/otUnWL5t/aWHw2peTX2arULdFSaleSbNcufnQN1qFvb+K7ukRjthnxmrlAPvfKsvD2fvbnXYnuVV7dG4yxPkc0rRGjurgwQEjBklXn5DpWdiIcNIfedifl0+6jtauGdp26/R/CgIQF4VHIVU8Jovuika48s1WGI586vztVbrkZrWVloZYXHCvDxgHO1XGTjOQc70lOUY8POro72aMAcQIHSmT6VyJS3CRk+Vde4Crnr0qo6iEuv2o2fxDyzX15cWstsymVQ3MYFZXHy1mXh3v5CQS5+2vjOx4kLkg70tguGA4X86LYjjBHLFZrFxtxW5P1TVQfEmPKqkdgpA5GuMTkUBfLH3il194c6AmhE6d2Pf3aM/1FMoj4M9TsfhQdzEUbwnGd1PrQI+0pCId+fFUJB/rcf7uj7MiWMuoww94eRpTqEzx6gWXh90UlezsndK6W8EfxP8AWky6meJOND/w0THqMDcOXxt9IVW06qV45/V11xL9F/6YpPpR4bd/Vz/QUfeTA6dPgjxKevrQFh//ADj40D49Cbaq6LurKS2XMrD4ZoQiqJE86nGnEd6+RMmriMDFK0OHmFG+dgK+vI5rSJSw4TLsD5VdZYWXvCMlfdHrVOo6hDHGZLi7jQ52T3tqj2tmNTcNLwg7FwPs3/CgnvLaBl45V26A5oy97RwSMmbfvAuQDyztj86COsK2e6s4lGdtquekWeUhrdqZOBBIc/SZcCqm1WU5MSIAOrZOakuqTg5WGH4Fa62r3ZP9xB/LT3S1ADaxdsxBtQR5jNc/W8qkKbcjPxo1tXu//SjA9BVZ1a7+pGR/DRu/sdZ+g1zeyHg4rVvCcghhvVB1KMH+5kHyoifVJm9+JB8qEN+f3KVpyL4b2GVsKSG8jR0coyoYjA9aTNfhHDd1Ez9CWwak2r3JOeGP+WkGgz0UjBqaoSAM9aRwa9cxKV7iJyepyMfKjbXX5jGRPZwu3QgYpaM2iJViG5V25UPF8Dmlq68BtJp8bHzXlV6azaSe/p/CfRqYStJe5uct7knhI8jXbvT4p5iwn4ZOXA451IXunujB7aVS3LhblTCDUdPuAIXYo4GAzrtSMgn026gGeDjX6ynIoNwVOGBB8iK2RteABrdzk8t9jQssPGMXVssq+gwaNH2ZOUfsX/hNWLLIBgN91O5dHsrhM29w0XF0YZFDNoF5n9l3ci9GDYo1T3K29xO9wxL8zVapkitanZSEne6f+UGi4eyVvjJnlJHkoFHeRPWsbw8Az1qDVum7J2zbmWYfErQ8/ZayhQu88oAG+CKnvFda8+1CSRUAik4SfdNIjYI8he6mLZOCDWl1O1QaisPeFYUy4J/GlV3bcBMjOFLHqv8AjXJy8879Xsfg/j8X9ffOboc2enRW0hiUFuHmemD/AIUGklptju/spgLTiQtxAgDcDrSi3nWAOjWsEjcZ8UqcRHl/n/I3/G5O0v1h/KceOOUywmhiy23Tg+QqXf2vkh+VBXckUqnurdYiWz4DtQxxmunbydGbXNqOi10T2pGyp8aUG7ggk4Z1RvIOCan+s7Me9BbEeq0BLVpoiAFVPiKTs6g+HG46UVf6jZy47mC2HnhRQJuYc/3cP2CkbQvNp7WSpGjJDwgc1KnbfI58Waz5MQJ2qYktmtHl4oA4fhEWNyMe9VJng+qlBrk7vypzZGDuFyidKQCeH6q/bTC1vbVYwGiXPzoI4xaknwr9tRnNtHHxBVoMMknijGF9K7iDun79JGz7hQ44T6+e1AEW3s00RPCoPqabaXo9hexyNJMYZNgrZyCMcqTWtvbpbySNDdFc7YxgU20qzmayWRc7nOfjXP8AkZzHH3p6P8dxTk5f9zxBVjC1jdezGfvIXOFB6H0pn3YZedBQWUxlR5MMFcHPFkinLQr1QfM0fjcn9mPvej/kuLj4uX/z9WFT2UfOPwn93lQEthccZMZwp3xnFP2hC7jGPLeqsA/7LHzroea9F0q+SRFLnvEHX6Q9DT2OaKVcxMCBXnYMlswK8asPLamFtrTKf26kN0dNs/EVjlG0raPWd7R6xb28Jt1kDSfS4TnHxoyx1gSqBKAuf9oDt9lZ/tutlFGHhA9pmByy8gvnWcnlVvhnrDWbWKRproMwli4QyAEDfrUry+0a6RfZ5oWO2e8XgP3j8ay7yLFawI3FsvMCqO8gf3rhV9CcUsp/r07uHj48+Oay1WwhTTHxxtZqP3Zk/P41htQhEN/MgKkZyCDsem1GRpDnKTxt/wAQofUUHHEyniPLbf1/Cnx6mfiF+Vw2cNvbYDmK4Vq0KdxjlXOHPSup5dVd2jg8ahiOWelaDsDo9rqHaSG3a3R4+ElwwzSaCIvIVCkk4wAK0vY29/0d18XN5bzKpUgFl4R8yRtR8EH3+l2q2s8r2dnZzJMYY0MTOZXXYgDjHM4xvyr5NAgW97ue3s+7W272SPgbOeo4s45jyqOudo7CV0jg75OGZpkeO4UFWPnlSMfKpHX7eR3ctAXaARFjfLuOf1ee9TL4PXlCPS9Okh06VbCJkubgpIysx4V4WIwCfSh20qBJ72N4NPSG2HG8jBuG2GfpeLxNw742++ioNasbZLWN5YCLeRnVvbAdztv4fU8qE9v0tbaSL9aSBWlEvCZC2GDFsj9nvk+fkKZIWtvbyNa8dlZxcSokiiNgxdonkyPEcYCg4354rK3FrbNcXDC3QDvGwMYxua1Mmr2huluRMtxcLgqFklLO4UoH4eELxcLHy+FI7qwu4OOW5iKFyWJPXNALUQKcrsB9EVG8fMW2x4q7LKqMB99D3EgkKAEHnypkKsk7yJVBO7b9R9len6ZaaTBpttHc3Nr3nCC2LhTg/DOa890aNS6DhJ4Bk7U3EsK/TVvQb1y8/wDq61t634PDMuO3trbW3N7oqqYLVe9nYgK0a7A+eSKGKN51nrKaFr+JEkY7nKkfia0Z4gM8Jx8K04JrH1pzfnTCZzrl2VNE2ffH21zu6IxjYthvMiu936g1u4XoOp6JBdgsimN8cwKyGpaTPZse8jZhjYgV6MTVUkSSqVkVWXyIrmldFjypndOZYegNA3czPu5dyeWegrX9rtLtLKJZoCEd2xwZ51jZQVHJiR6VpNM6RX4CWikEE7/Pel8Cq/Mn+bFMdaUJgI2A2+OWD13pIFkU+BWI9N6uJpqLOJxzP81Rk03MUhhkPGoyobkTn/8AaBSadM7sPQipQ6lOhJD59CKfhO7+3Gjni527ZzuFYH+prmJ//azfzIPxq46xdkZPdnHQjeqx2gu1PD3MI36rRo9h5VvkcPDBIpz1dc/caJbU9VCALJe8tx32fxo5NcnIB4IT6BBUzrkuP7qIH+AUBm7y+1AyftJrsfxOfzoT2i/bZZblvQSsPxrQ6lqjzR+JY9vJQKTteMw548iDyoAMtqPFk9/tzBcnH31zv7wk7v8Ab/jREt7cOoX2mU+eW2r5bplAwaAjbyXZYZM3P63+NO1gvLhR3NtJKcdGBpVHqMqnKSOrdOFjn7qcadr+pd33ftVyWzsCzHFABXmlamZFDWL7D3QDmg5La8V+H2ZkI6HI/CtG2p6i0mJDcEt6E5pTdC5e5mIjkLBdxg5FAaTs5pFpNZSTXbcDBhgMQvTfY0VeQWESeB1P/EDWL0151D5YKD0LgUwbiYeKZPlJn+gpH5OOzkUdx2nsoA5XvZCmQM8OQd69Qm7F30J/ss0Uw8j4W+/868y7Gqw7Q2UtqvFJFJxlgpJ4RzwOpxmv0BZ3MN3As1vIHif3cbVFy1VSeHnFzpF7ZrwzWbxr58GR9ooEw/VyB6168CQME5PoNqqktLV24ntoWPm0YJpzNNgd+dRPI79Km2OtVSthdqwdDz/trembUjCGBSAcO3U9azEkhJ3o3VZu/vJpCd2cn76BYjG9bY+mOXsv1WMS2+wywrPvGV5H76fXUvDdGP6Lr9hpdPbrueLHnimPheHZeTsD8TXUeTrI/wBtXGFRykrncnOzintOnDJLg4dvtFSEs/Rz91dFq5PQ59amtrIeXD9tPY0+W5uUG0uPThWum+ues3/TX8ql7HPjZVrnsVx0X76NgNdXc8kZV3Uj/dj8qVMX81+ymd3bTRgllFLWSQ9AKAry/wBZfsqJlkG3HUmhkPUVAxP6Uw53z5BDkEUXZzyqxcSuGzzDEUMtu/PiFNLPTy0IPfL50Bx55XOXmdm/eYn76olbIdmJJIxv1o5rFBzuKDvreJEHC5J9DQSi0SSIEugUHlvR8bg7YyahZrbLADId+fOmUPdpGLjuSI8D9piptON5+jHTGhlbUuEfs8rGCM7nmfsr0pSUPf2qeJjmS3DY4vUev9a8f7MdrDpd0vEeKycYKjmD516lZXkV1AlxbvlTghga58r5byeD21u4rqPMMysQcMFOeE+tWSXKRsV4S2OuKzEOmGx1H22wbu2YHvYX3Vs+R5insV7LwDjVFbyDZxTmSLimyq3OqmQDODt99XEVAikt5h2h0qawvpeJcxuxZGxsQd6RupIya9c1rT/1jp0kGBx84yehFeY31tJbyNHNG0bDYgitcMts84y2sqOMZ5cPSlc8kgUhXbGeWeW9aHVrQXEBUbHzFZq4s5wWHF91VpMpHd3lyLghZXAB9KiuoXa7rISfUCjm0wglnOTVbWYAzjaqGkE1m8HCHCtjry8/zq1tcuVYhOEqDgZFVG1HlUTbelIaX/6QXnRU++u/6R3oGOFftoX2b0r72ceVPY0tm1u8mGHVMfGhjey/VFT9n35V97P6UbLSs3c1RN1L51f3B6CvvZ28qNjQfv5j1H2VMXd0q8KSkfCrxb+lSW1zyFGz0DNxdNsZXPxNcj4i44i2/maZJZg9Kcdn+z66lqVvC0bsjsOMr9EefpStEgCxtRleJOI55KOdaufSpzo6G4RoRIQYo2GC4FbHS+wuk6bdJdQrO8sZyvHKSAfhTrUrZLqApIhJG646VhlyfprMHikbGAFSDgnAz/natV2Y7T3elN3aurw8QIWQ7AdaE7WaC0ERv7ZQI+PDKpwVbqcUijZ+4wyjfkRVzVK+H6C0+9S9tVljdSTz35UWDXiPZjtFdaTMvjbu9gQT0r2HTdVtr60S4gmHC3Qnkai46OXZ+1QxVjVA4pGgfXl0oa9s7S9Xgu4FlX94bj50SxGdudROKAyV92Hs5SzWtzJFnkjDIFIrv9Ht4c91cQOfUEV6Pnyr4c96fajrHkFx+j7WFBxFA3wk/wAKXTdhdbjyfYiw8lYV7lsR51VLGMbjFHejrHg7dj9aXb9XS/8AL+dUt2R1nO+mzfd+de7PFiqigxyo/sHR4W3ZTV0G+nzAD0H50ufTZkYq8ZVhzBFfoNlyBilGqdnrS/BYx8MnRh1qpntNweIexPnHDUTYv5VvdV0Gawk/aJlTyIG1LDbhRjh5VpKhmY9NlOwAwepOKd6d2JvL+NXintcEZ9/cfKihCPKr7V5rWUPC7IR5Gld/BNfVsH6NrrnNewqPMRkn+tQuuw0tg4kcvc24PjMQw32Vp9J7SE8MV8uRy41rUQSRXMRaB1eM77Gs95T201GL0ns/2bkTjigZ3X3kmY5X41pbO2tLaLFpFEij6g51y90pGlFza4juV3zjaQeRoa3u7NpWgvEaGcNloyNh8McxU3dVNGfGo+kB86puLq3QeORBtnc0Dd3QeJu5ZYE5CR1y3yFDS3MUaRy3KhYF3Ze7zLJ6gVJpW93BNqRikKGFxjBHhb41g+2WnjTdRmFtEGts5Vl+ieorcXccEd4j2TyqG/u4Fj8ROObeVA6h39xfIrRNJLgrIysOBBjqeXKnjlorNvN4W45CT4QOYIprZardWsHd28hVc5x60PrNjc2cqiFOO1MhWKbnx9SKFim2IwpwSN9selbyyxlfFfpxqrINWk1E4rFoqIzUWU9BVu2KrY77UGrCkcxVigEb18NxX3pQFZXh5b1z3hvVhGarNIKyCedRMe21WEA75r4EKCM0jDFefpXOHpVwAJz91fFMGmQWe2S4jKSjKnzrLax2aA4pLPfG5U1sWFVnny2x1py6Kzbyqe3eJyroQw6EVVj0r0vUNKtr9f2icLgbMtZLU9BubLLD9pHnmOlazOVncLCRQVoyyv7mzbiicqPInY1QVxz6VArtz61XilNxsdO7RQzKEuwEfkD0q7VdOt9Vi4uLhfGFkQ7j4ViN+LGAV8+tH6dqU9k3gcsnVG3BqLh+lTL9iZJJ9Pkne9hcW6sI4ZHUZPqBmjYXjkd3SVU4cBpn8TnPRRRcUtvq8KTLHF3yHPDJ9GlMmmyLxiweSe4lmDyynCpGvXHpWfpZioj7skBoYiDlj/eSVJoEa24Xj4LdgR3I5ybdaBXU0Sa5aYKywME7wAt4v6UZctcSzQx6c49oWVJJp5RsiKQcY9eXzpaPZTrmi3EltFMLFp50BjtLdciKEHYlumQPntWKuLaM3EogRpuFirukfEOIc98GvZbHtxaNqN1FqESWljEeGO+kbhR36rj8eWxpq9zo9mxjitn4W8X9nhJXJ+HWtZjpnct/DI1E5qyuEVC1JOBnpVZcjkKtcYTFQCUjRViTyqQJySaiRwn0qwY4aAhnBz0qr4A5qcrBRuaqClgxG/EPOkHxJ4tzv5+VQOA3XPlXG8DNn413jPLyx99I01PU7fKuk5NR5Dc1wt4fICmTjVAjh3NTOwqPCrczTCstv8a+ILjhwMHntzrpA4gB0rrkqMg9cUAh1fs9FODJbDu5fIcjWSurOS3laOZSrAmvSVbjwDzNC6haQXCFLiNSpGx6iqxz17Tcd+nm5j9a+AA5ineq6K1uweBu8i+wik7Kc4rWWVnrSh2lgcTW7cLruCDWi0zXVvmENym6jxmMgDPr+dICMrvQM8bwSMy4KP72/L1pZY7Ey0208a3DRyyNAtipDCGNQTK3TmPhQer2/sEd1fWci28ThcKuXLN5DPmaS2GtGC4gtmYLFHu2Fzn1PmT9lPrfUbS7gN5NxlVk4Y4jjBfp8T9w+2s+uva979A7trLUJ7WPWbd0trOPvVRl4VY7AMy9fh1+PJpHcXl7GtzazxwQyDwR+8QBtv8AZ/Sl2owxxxT6nexi4v7jCW9sd1U4wq4PXO5O2ME5xQg7O3TwwHUdZns5u7H7G391R65wSSckkj7sUtKf/9k="
   ],
   "metadata": {
    "id": "ZrBvhXgkspHC",
    "outputId": "7d166dd3-3783-44cb-84f0-61eabf5c15c7",
    "colab": {
     "base_uri": "https://localhost:8080/"
    }
   },
   "outputs": [],
   "execution_count": null
  },
  {
   "cell_type": "code",
   "metadata": {
    "id": "mjXEI8-5dxcS",
    "outputId": "5b8a6fae-46d1-4661-ed9f-5c7b0fb87c27",
    "colab": {
     "base_uri": "https://localhost:8080/",
     "height": 858
    }
   },
   "source": [
    "import cv2 as cv\n",
    "import numpy as np\n",
    "from matplotlib import pyplot as plt\n",
    "\n",
    "img = cv.imread('opencv_morphological_ops_car.png')\n",
    "img = cv.cvtColor(img, cv.COLOR_BGR2GRAY)\n",
    "\n",
    "def draw_img(img):\n",
    "    fig, ax = plt.subplots(ncols=1, nrows=1, figsize=(12, 8))\n",
    "    ax.set(xticks=[],yticks=[],)\n",
    "    ax.imshow(img, cmap=\"gray\")\n",
    "    fig.tight_layout()\n",
    "    plt.show()\n",
    "\n",
    "\n",
    "kernel = cv.getStructuringElement(cv.MORPH_CROSS, (3,3))\n",
    "print(kernel)\n",
    "\n",
    "img_erosion = cv.morphologyEx(img, cv.MORPH_ERODE, kernel)\n",
    "draw_img(img_erosion)"
   ],
   "outputs": [],
   "execution_count": null
  },
  {
   "cell_type": "code",
   "metadata": {
    "id": "1kBzaIP7dxcW",
    "outputId": "bad2820c-5807-4031-9df1-70fb5773064a",
    "colab": {
     "base_uri": "https://localhost:8080/",
     "height": 892
    }
   },
   "source": [
    "kernel = cv.getStructuringElement(cv.MORPH_ELLIPSE, (5,5))\n",
    "print(kernel)\n",
    "\n",
    "img_erosion = cv.morphologyEx(img, cv.MORPH_ERODE, kernel)\n",
    "draw_img(img_erosion)"
   ],
   "outputs": [],
   "execution_count": null
  },
  {
   "cell_type": "code",
   "metadata": {
    "id": "Z7KQQmurdxcW",
    "outputId": "d53b5737-e90e-4922-eb34-ddbf7647cd5b",
    "colab": {
     "base_uri": "https://localhost:8080/",
     "height": 807
    }
   },
   "source": [
    "kernel = cv.getStructuringElement(cv.MORPH_CROSS, (3,3))\n",
    "img_dilation = cv.morphologyEx(img, cv.MORPH_DILATE, kernel)\n",
    "draw_img(img_dilation)"
   ],
   "outputs": [],
   "execution_count": null
  },
  {
   "cell_type": "code",
   "metadata": {
    "id": "bPI2n7svdxcX",
    "outputId": "ec1fcc48-8d1b-43e8-e797-549d02e4cde2",
    "colab": {
     "base_uri": "https://localhost:8080/",
     "height": 807
    }
   },
   "source": [
    "kernel = cv.getStructuringElement(cv.MORPH_CROSS, (6,6))\n",
    "\n",
    "img_tophat = cv.morphologyEx(img, cv.MORPH_TOPHAT, kernel)\n",
    "draw_img(img_tophat)"
   ],
   "outputs": [],
   "execution_count": null
  },
  {
   "cell_type": "code",
   "metadata": {
    "id": "2Gh4DyusdxcY"
   },
   "source": [
    "img_open = cv.morphologyEx(img, cv.MORPH_OPEN, kernel)\n",
    "img_close = cv.morphologyEx(img, cv.MORPH_CLOSE, kernel)\n",
    "img_tophat = cv.morphologyEx(img, cv.MORPH_TOPHAT, kernel)\n",
    "img_blackhat = cv.morphologyEx(img, cv.MORPH_BLACKHAT, kernel)"
   ],
   "outputs": [],
   "execution_count": null
  },
  {
   "cell_type": "markdown",
   "metadata": {
    "id": "bg7noF7ydxce"
   },
   "source": [
    "## Hit-or-Miss"
   ]
  },
  {
   "cell_type": "code",
   "metadata": {
    "id": "bIhE_WdMdxce",
    "outputId": "1b0f4c43-91cc-4019-b8b8-523e9ae41c0d",
    "colab": {
     "base_uri": "https://localhost:8080/",
     "height": 807
    }
   },
   "source": [
    "import cv2 as cv\n",
    "import numpy as np\n",
    "from matplotlib import pyplot as plt\n",
    "\n",
    "\n",
    "input_image = np.array((\n",
    "    [0,0, 0, 0, 0, 0, 0,0, 0, 0,0],\n",
    "    [0,0, 255, 255, 255, 0,0, 0, 0, 255,0],\n",
    "    [0,0, 255, 255, 255, 0,0, 0, 0, 0,0],\n",
    "    [0,0, 255, 255, 255, 0,0, 0, 0, 0,0],\n",
    "    [0,0, 0, 255, 0, 0, 0,0, 0, 0,0],\n",
    "    [0,0, 0, 255, 0, 0, 0,255, 255, 0,0],\n",
    "    [0,0,255, 255, 255, 0,0, 0, 255, 0,0],\n",
    "    [0,0, 255, 255, 255,0, 0, 0, 0, 0,0],\n",
    "    [0,0, 0, 0, 0, 0, 0,0, 0, 0,0]), dtype=\"uint8\")\n",
    "\n",
    "kernel_1 = np.array((\n",
    "                [0,   1, 0],\n",
    "                [-1,  1, 1],\n",
    "                [-1, -1, 0]), dtype=\"int\")\n",
    "\n",
    "kernel_2 = np.array((\n",
    "                [0, -1, -1],\n",
    "                [1,  1, -1],\n",
    "                [0,  1,  0]), dtype=\"int\")\n",
    "\n",
    "kernel_3 = np.array((\n",
    "                [-1, -1, 0],\n",
    "                [-1,  1, 1],\n",
    "                [0,   1, 0]), dtype=\"int\")\n",
    "\n",
    "kernel_4 = np.array((\n",
    "                [0,  1,  0],\n",
    "                [1,  1, -1],\n",
    "                [0, -1, -1]), dtype=\"int\")\n",
    "\n",
    "output_image_1 = cv.morphologyEx(input_image, cv.MORPH_HITMISS, kernel_1)\n",
    "output_image_2 = cv.morphologyEx(input_image, cv.MORPH_HITMISS, kernel_2)\n",
    "output_image_3 = cv.morphologyEx(input_image, cv.MORPH_HITMISS, kernel_3)\n",
    "output_image_4 = cv.morphologyEx(input_image, cv.MORPH_HITMISS, kernel_4)\n",
    "\n",
    "output_image = output_image_1 | output_image_2 | output_image_3 | output_image_4\n",
    "\n",
    "rate = 50\n",
    "input_image = cv.resize(input_image, None, fx = rate, fy = rate, interpolation = cv.INTER_NEAREST)\n",
    "output_image = cv.resize(output_image, None , fx = rate, fy = rate, interpolation = cv.INTER_NEAREST)\n",
    "fig, ax = plt.subplots(ncols=1, nrows=2, figsize=(12, 8))\n",
    "ax[0].set(xticks=[],yticks=[],)\n",
    "ax[0].imshow(input_image, cmap=\"gray\")\n",
    "ax[1].set(xticks=[],yticks=[],)\n",
    "ax[1].imshow(output_image, cmap=\"gray\")\n",
    "\n",
    "fig.tight_layout()\n",
    "\n",
    "plt.show()"
   ],
   "outputs": [],
   "execution_count": null
  }
 ],
 "metadata": {
  "kernelspec": {
   "display_name": "Python 3",
   "language": "python",
   "name": "python3"
  },
  "language_info": {
   "codemirror_mode": {
    "name": "ipython",
    "version": 3
   },
   "file_extension": ".py",
   "mimetype": "text/x-python",
   "name": "python",
   "nbconvert_exporter": "python",
   "pygments_lexer": "ipython3",
   "version": "3.11.12"
  },
  "colab": {
   "provenance": []
  }
 },
 "nbformat": 4,
 "nbformat_minor": 0
}
