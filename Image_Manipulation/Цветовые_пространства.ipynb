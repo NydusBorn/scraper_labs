{
 "nbformat": 4,
 "nbformat_minor": 0,
 "metadata": {
  "colab": {
   "provenance": []
  },
  "kernelspec": {
   "name": "python3",
   "display_name": "Python 3"
  },
  "language_info": {
   "name": "python"
  }
 },
 "cells": [
  {
   "cell_type": "markdown",
   "source": [
    "# Применение цветовых пространств для фильтрации"
   ],
   "metadata": {
    "id": "Up0MACxBfbuf"
   }
  },
  {
   "cell_type": "markdown",
   "source": [
    " В прошлый раз мы не рассмотрели цветовое пространство HSV, которое расшифровывается как:\n",
    "\n",
    "- **H**ue - цветовой тон, значение от 0 до 360\n",
    "- **S**aturation - насыщенность, измеряется в процентах. Чем больше этот параметр, тем «чище» цвет, поэтому этот параметр иногда называют чистотой цвета. А чем ближе этот параметр к нулю, тем ближе цвет к нейтральному серому.\n",
    "- **V**alue -  значение цвета, или **B**rightness — яркость. Также, как и в насыщенности, измеряется в процентах\n",
    "\n",
    "\n",
    "![Alt Text](https://www.mathworks.com/help/images/hsvcone.gif)\n",
    "\n",
    "HSV считается более приближенной к человеческому глазу моделью цвета, чем RGB или YUV.\n"
   ],
   "metadata": {
    "id": "ozJUzviLuZ06"
   }
  },
  {
   "cell_type": "code",
   "source": [
    "!wget https://raw.githubusercontent.com/CHEREF-Mehdi/SkinDetection/refs/heads/master/Image/HGR1/5/K_P_hgr1_id08_2.jpg\n",
    "!wget https://raw.githubusercontent.com/CHEREF-Mehdi/SkinDetection/refs/heads/master/Image/HGR2a/1/B_P_hgr2A2_id01_2.jpg\n",
    "!wget https://raw.githubusercontent.com/CHEREF-Mehdi/SkinDetection/refs/heads/master/Image/HGR1/3/E_P_hgr1_id03_6.jpg"
   ],
   "metadata": {
    "colab": {
     "base_uri": "https://localhost:8080/"
    },
    "id": "J8U-BKjrvI7Z",
    "outputId": "39a92735-5a2b-49b3-bb8b-8ec28d858a26"
   },
   "outputs": [],
   "execution_count": null
  },
  {
   "cell_type": "markdown",
   "source": [
    "Пример по поиску предметов определенного цвета"
   ],
   "metadata": {
    "id": "92M_awUB1wC6"
   }
  },
  {
   "cell_type": "code",
   "source": [
    "import cv2\n",
    "import numpy as np\n",
    "import matplotlib.pyplot as plt\n",
    "\n",
    "# Function to perform color segmentation\n",
    "def segment_color(image, lower_bound, upper_bound):\n",
    "    # Convert the image to HSV color space\n",
    "    hsv_image = cv2.cvtColor(image, cv2.COLOR_BGR2HSV)\n",
    "\n",
    "    # Create a mask for the specified color range\n",
    "    mask = cv2.inRange(hsv_image, lower_bound, upper_bound)\n",
    "\n",
    "    # Bitwise-AND mask and original image\n",
    "    segmented_image = cv2.bitwise_and(image, image, mask=mask)\n",
    "\n",
    "    return mask, segmented_image\n",
    "\n",
    "# Load the image\n",
    "image = cv2.imread('E_P_hgr1_id03_6.jpg')  # Replace with your image path\n",
    "\n",
    "# Define the HSV range for the color you want to segment (e.g., blue)\n",
    "lower_blue = np.array([100, 150, 0])   # Lower bound for blue\n",
    "upper_blue = np.array([140, 255, 255]) # Upper bound for blue\n",
    "\n",
    "# Perform color segmentation\n",
    "mask, segmented_image = segment_color(image, lower_blue, upper_blue)\n",
    "\n",
    "# Display the results\n",
    "plt.figure(figsize=(12, 6))\n",
    "\n",
    "plt.subplot(1, 3, 1)\n",
    "plt.title('Original Image')\n",
    "plt.imshow(cv2.cvtColor(image, cv2.COLOR_BGR2RGB))\n",
    "plt.axis('off')\n",
    "\n",
    "plt.subplot(1, 3, 2)\n",
    "plt.title('Mask')\n",
    "plt.imshow(mask, cmap='gray')\n",
    "plt.axis('off')\n",
    "\n",
    "plt.subplot(1, 3, 3)\n",
    "plt.title('Segmented Image')\n",
    "plt.imshow(cv2.cvtColor(segmented_image, cv2.COLOR_BGR2RGB))\n",
    "plt.axis('off')\n",
    "\n",
    "plt.tight_layout()\n",
    "plt.show()"
   ],
   "metadata": {
    "colab": {
     "base_uri": "https://localhost:8080/",
     "height": 391
    },
    "id": "zcdYiwGt1s14",
    "outputId": "f43f812c-9074-424d-f22f-2a5ced0595b6"
   },
   "outputs": [],
   "execution_count": null
  },
  {
   "cell_type": "code",
   "source": [
    "import cv2\n",
    "import numpy as np\n",
    "from google.colab.patches import cv2_imshow\n",
    "#Open a simple image\n",
    "img=cv2.imread(\"B_P_hgr2A2_id01_2.jpg\")\n",
    "\n",
    "#converting from gbr to hsv color space\n",
    "img_HSV = cv2.cvtColor(img, cv2.COLOR_BGR2HSV)\n",
    "# Пороги по обнаружению кожи\n",
    "HSV_mask = cv2.inRange(img_HSV, (0, 15, 0), (17,170,255))\n",
    "# Удаляем шум через морфологическую операцию, разберем подробнее в следущий раз...\n",
    "HSV_mask = cv2.morphologyEx(HSV_mask, cv2.MORPH_OPEN, np.ones((3,3), np.uint8))\n",
    "\n",
    "#converting from gbr to YCbCr color space\n",
    "img_YCrCb = cv2.cvtColor(img, cv2.COLOR_BGR2YCrCb)\n",
    "#skin color range for hsv color space\n",
    "YCrCb_mask = cv2.inRange(img_YCrCb, (0, 135, 85), (255,180,135))\n",
    "YCrCb_mask = cv2.morphologyEx(YCrCb_mask, cv2.MORPH_OPEN, np.ones((3,3), np.uint8))\n",
    "\n",
    "#merge skin detection (YCbCr and hsv)\n",
    "global_mask=cv2.bitwise_and(YCrCb_mask,HSV_mask)\n",
    "global_mask=cv2.medianBlur(global_mask,3)\n",
    "global_mask = cv2.morphologyEx(global_mask, cv2.MORPH_OPEN, np.ones((4,4), np.uint8))\n",
    "\n",
    "\n",
    "HSV_result =cv2.bitwise_and(img, img, mask=HSV_mask)# cv2.bitwise_not(HSV_mask)\n",
    "YCrCb_result = cv2.bitwise_and(img, img, mask=YCrCb_mask)\n",
    "global_result=cv2.bitwise_and(img, img, mask=global_mask)\n",
    "\n",
    "img = cv2.resize(img, (640, 480))\n",
    "HSV_result = cv2.resize(HSV_result, (640, 480))\n",
    "YCrCb_result = cv2.resize(YCrCb_result, (640, 480))\n",
    "global_result = cv2.resize(global_result, (640, 480))"
   ],
   "metadata": {
    "id": "68VcC0XugSUU"
   },
   "outputs": [],
   "execution_count": null
  },
  {
   "cell_type": "code",
   "source": [
    "cv2_imshow(img)"
   ],
   "metadata": {
    "colab": {
     "base_uri": "https://localhost:8080/",
     "height": 497
    },
    "id": "zU6jvQDpkjG4",
    "outputId": "82fdc3c1-3e1d-4225-88f1-29039887e38c"
   },
   "outputs": [],
   "execution_count": null
  },
  {
   "cell_type": "code",
   "source": [
    "cv2_imshow(HSV_result)"
   ],
   "metadata": {
    "colab": {
     "base_uri": "https://localhost:8080/",
     "height": 497
    },
    "id": "VNyZJaAbke8Y",
    "outputId": "8d31e19a-44e5-49bd-f429-b3ca20cf759d"
   },
   "outputs": [],
   "execution_count": null
  },
  {
   "cell_type": "code",
   "source": [
    "cv2_imshow(YCrCb_result)\n"
   ],
   "metadata": {
    "colab": {
     "base_uri": "https://localhost:8080/",
     "height": 497
    },
    "id": "vGHDuxDqkgB1",
    "outputId": "f023ec44-d70f-44f4-ba97-d2e8f60f57e0"
   },
   "outputs": [],
   "execution_count": null
  },
  {
   "cell_type": "code",
   "source": [
    "cv2_imshow(global_result)"
   ],
   "metadata": {
    "colab": {
     "base_uri": "https://localhost:8080/",
     "height": 497
    },
    "id": "lpkE7jc4kkjc",
    "outputId": "bc3ed7bf-079e-4d46-9288-e0360e3d4f12"
   },
   "outputs": [],
   "execution_count": null
  },
  {
   "cell_type": "markdown",
   "source": [
    "Попробуем нарисовать границы объектов:"
   ],
   "metadata": {
    "id": "11VWFTo1LDlQ"
   }
  },
  {
   "cell_type": "code",
   "source": [
    "from copy import deepcopy\n",
    "\n",
    "\n",
    "img_ = deepcopy(img)\n",
    "\n",
    "# Threshold the image for object detection\n",
    "_, thresh_img = cv2.threshold(img_, 100, 255, cv2.THRESH_BINARY)\n",
    "cv2_imshow(thresh_img)"
   ],
   "metadata": {
    "colab": {
     "base_uri": "https://localhost:8080/",
     "height": 497
    },
    "id": "tQEjCKNp5jCB",
    "outputId": "f5524082-1447-4830-f3fd-85ba1ac4b0e1"
   },
   "outputs": [],
   "execution_count": null
  },
  {
   "cell_type": "code",
   "source": [],
   "metadata": {
    "id": "CjpEnjLzC1ld"
   },
   "outputs": [],
   "execution_count": null
  },
  {
   "cell_type": "code",
   "source": [
    "# Find contours of objects\n",
    "channel = 0\n",
    "draw_color = [0,0,0]\n",
    "draw_color[channel] = 255\n",
    "contours, _ = cv2.findContours(thresh_img[:,:,channel], cv2.RETR_EXTERNAL, cv2.CHAIN_APPROX_SIMPLE)\n",
    "\n",
    "# Draw detected contours on the original image\n",
    "cv2.drawContours(img_, contours, -1, tuple(draw_color), 3)\n",
    "\n",
    "plt.imshow(img_)"
   ],
   "metadata": {
    "colab": {
     "base_uri": "https://localhost:8080/",
     "height": 207
    },
    "id": "UOdqr8sG58yK",
    "outputId": "ba69e862-4482-4339-aedc-0be593313e16"
   },
   "outputs": [],
   "execution_count": null
  },
  {
   "cell_type": "code",
   "source": [
    "img_ = deepcopy(img)\n",
    "# Convert to grayscale\n",
    "gray_img = cv2.cvtColor(img_, cv2.COLOR_BGR2GRAY)\n",
    "\n",
    "cv2_imshow(gray_img)\n",
    "\n",
    "hsv_img = cv2.cvtColor(img_, cv2.COLOR_BGR2HSV)\n",
    "cv2_imshow(hsv_img)\n"
   ],
   "metadata": {
    "colab": {
     "base_uri": "https://localhost:8080/",
     "height": 977
    },
    "id": "qQsY8YKLC7sD",
    "outputId": "57919bb2-1dc6-4d8f-fa34-2d63bfd13319"
   },
   "outputs": [],
   "execution_count": null
  },
  {
   "cell_type": "code",
   "source": [
    "# Threshold the image for object detection\n",
    "print(hsv_img[:,:,0])\n",
    "print(hsv_img.shape)\n",
    "thr = 15\n",
    "_, thresh_img = cv2.threshold(hsv_img[:,:,0], thr, 180,  cv2.THRESH_BINARY)\n",
    "print(thresh_img)\n",
    "cv2_imshow((thresh_img//thr)*255)\n",
    "print(thresh_img)"
   ],
   "metadata": {
    "colab": {
     "base_uri": "https://localhost:8080/",
     "height": 871
    },
    "id": "aVaLrD2OFF5D",
    "outputId": "9d8af3b8-3503-4383-cdee-54955c41afea"
   },
   "outputs": [],
   "execution_count": null
  },
  {
   "cell_type": "code",
   "source": [
    "contours, _ = cv2.findContours(thresh_img, cv2.RETR_EXTERNAL, cv2.CHAIN_APPROX_SIMPLE)\n",
    "\n",
    "# Draw detected contours on the original image\n",
    "cv2.drawContours(img_, contours, -1, (0,255,0), 3)\n",
    "\n",
    "plt.imshow(img_)"
   ],
   "metadata": {
    "colab": {
     "base_uri": "https://localhost:8080/",
     "height": 452
    },
    "id": "ceUshtY9From",
    "outputId": "8652fa06-b839-4a5d-ba53-c0bd21763d19"
   },
   "outputs": [],
   "execution_count": null
  },
  {
   "cell_type": "markdown",
   "source": [
    "Дополнительное чтение:\n",
    "\n",
    "https://arxiv.org/pdf/2502.20272"
   ],
   "metadata": {
    "id": "GOt3fwQyxMop"
   }
  }
 ]
}
