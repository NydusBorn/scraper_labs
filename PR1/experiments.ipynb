{
 "nbformat": 4,
 "nbformat_minor": 0,
 "metadata": {
  "colab": {
   "provenance": []
  },
  "kernelspec": {
   "name": "python3",
   "display_name": "Python 3 (ipykernel)",
   "language": "python"
  },
  "language_info": {
   "name": "python"
  }
 },
 "cells": [
  {
   "cell_type": "markdown",
   "source": [
    "# Работа с библиотекой Pandas"
   ],
   "metadata": {
    "id": "GiYQGjAL0zsp"
   }
  },
  {
   "cell_type": "markdown",
   "source": [
    "1. Загрузите набор данных из файла **car_data.csv** по примеру с лекции\n",
    "\n"
   ],
   "metadata": {
    "id": "7NRDKGYTNs2c"
   }
  },
  {
   "cell_type": "code",
   "source": [
    "import pandas as pd\n",
    "import numpy as np\n",
    "df = pd.read_csv('car_data.csv')\n",
    "df"
   ],
   "metadata": {
    "id": "MtdlsUmS01oi"
   },
   "outputs": [],
   "execution_count": null
  },
  {
   "cell_type": "markdown",
   "source": [
    "2. Проведите анализ пропусков в данных. Удалите строки или столбцы, содержащие пропуски."
   ],
   "metadata": {
    "id": "Sjv3folGN2wg"
   }
  },
  {
   "cell_type": "code",
   "source": [
    "df_na = df.dropna()\n",
    "df_na"
   ],
   "metadata": {
    "id": "_7kkMay-N28c"
   },
   "outputs": [],
   "execution_count": null
  },
  {
   "cell_type": "markdown",
   "source": [
    "3. Вычислите средний доход клиентов, купивших автомобиль марки Toyota Camry."
   ],
   "metadata": {
    "id": "TJGWwvf5N7yW"
   }
  },
  {
   "cell_type": "code",
   "source": [
    "df_f1 = df_na[df_na['Company'] == \"Toyota\"]\n",
    "df_f1 = df_f1[df_f1[\"Model\"] == \"Camry\"]\n",
    "print(f'{df_f1[\"Annual Income\"].mean()}$')"
   ],
   "metadata": {
    "id": "04XMWts3N7yX"
   },
   "outputs": [],
   "execution_count": null
  },
  {
   "cell_type": "markdown",
   "source": [
    "4. Найдите топ 10 самых дорогих марок автомобилей за представленный период времени.\n"
   ],
   "metadata": {
    "id": "6hjhGKJ_N_cY"
   }
  },
  {
   "cell_type": "code",
   "source": [
    "df_f2 = df_na.groupby(['Company', \"Model\"]).agg({'Price ($)': 'mean'}).sort_values(by='Price ($)', ascending=False).head(10)\n",
    "df_f2"
   ],
   "metadata": {
    "id": "DlSlpjn_N_cZ"
   },
   "outputs": [],
   "execution_count": null
  },
  {
   "cell_type": "markdown",
   "source": [
    "5. Найдите среднюю стоимость автомобилей по типам кузова (Body Style), используя метод groupby."
   ],
   "metadata": {
    "id": "87KfCTHKN_5V"
   }
  },
  {
   "cell_type": "code",
   "source": [
    "df_f3 = df_na.groupby(['Body Style']).agg({'Price ($)': 'mean'})\n",
    "df_f3"
   ],
   "metadata": {
    "id": "i7aHYX-EN_5W"
   },
   "outputs": [],
   "execution_count": null
  },
  {
   "cell_type": "markdown",
   "source": [
    "6. Какие автомобили приобрели 10 клиентов с самым высоким доходом?"
   ],
   "metadata": {
    "id": "cqaRFHAjOAAs"
   }
  },
  {
   "cell_type": "code",
   "source": [
    "df_f4 = df_na.sort_values(by='Annual Income', ascending=False).head(10)\n",
    "df_f4 = df_f4[[\"Annual Income\", \"Company\", \"Model\", \"Price ($)\"]]\n",
    "df_f4"
   ],
   "metadata": {
    "id": "qghvRt4eOAAs"
   },
   "outputs": [],
   "execution_count": null
  },
  {
   "cell_type": "markdown",
   "source": [
    "7. Какие автомобили приобрели 10 клиентов с самым низким доходом?\n"
   ],
   "metadata": {
    "id": "4zAQjPb0OAPM"
   }
  },
  {
   "cell_type": "code",
   "source": [
    "df_f5 = df_na.sort_values(by='Annual Income', ascending=True).head(10)\n",
    "df_f5 = df_f5[[\"Annual Income\", \"Company\", \"Model\", \"Price ($)\"]]\n",
    "df_f5"
   ],
   "metadata": {
    "id": "3hC7eRzCOAPN"
   },
   "outputs": [],
   "execution_count": null
  },
  {
   "cell_type": "markdown",
   "source": [
    "8. Создайте новый столбец, значения которого равны логарифму от величины дохода клиентов.\n"
   ],
   "metadata": {
    "id": "JhhWfqdNOOd-"
   }
  },
  {
   "cell_type": "code",
   "source": [
    "df_f6 = df_na.copy()\n",
    "df_f6[\"lg Annual Income\"] = df_f6.copy()[\"Annual Income\"].apply(lambda x: np.log(x))\n",
    "df_f6"
   ],
   "metadata": {
    "id": "mKBiIs2lOOd_"
   },
   "outputs": [],
   "execution_count": null
  }
 ]
}
